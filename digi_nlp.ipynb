{
  "nbformat": 4,
  "nbformat_minor": 0,
  "metadata": {
    "colab": {
      "name": "digi_nlp.ipynb",
      "provenance": [],
      "collapsed_sections": [],
      "authorship_tag": "ABX9TyMpnOB2byDu7n7nywfrtK2M",
      "include_colab_link": true
    },
    "kernelspec": {
      "name": "python3",
      "display_name": "Python 3"
    },
    "accelerator": "GPU"
  },
  "cells": [
    {
      "cell_type": "markdown",
      "metadata": {
        "id": "view-in-github",
        "colab_type": "text"
      },
      "source": [
        "<a href=\"https://colab.research.google.com/github/amirhoseinRj/Digikala-Data-Cup/blob/master/digi_nlp.ipynb\" target=\"_parent\"><img src=\"https://colab.research.google.com/assets/colab-badge.svg\" alt=\"Open In Colab\"/></a>"
      ]
    },
    {
      "cell_type": "code",
      "metadata": {
        "id": "3PhXp2oSdJqO",
        "colab_type": "code",
        "colab": {
          "base_uri": "https://localhost:8080/",
          "height": 870
        },
        "outputId": "83de602c-41f2-4f79-adcb-ac18b0725d0b"
      },
      "source": [
        "pip install fastai --upgrade"
      ],
      "execution_count": null,
      "outputs": [
        {
          "output_type": "stream",
          "text": [
            "Collecting fastai\n",
            "\u001b[?25l  Downloading https://files.pythonhosted.org/packages/d4/cf/9140964d3544d904cc718e519e1632a8a42e1eaaf2fafdaaa14716c42336/fastai-2.0.10-py3-none-any.whl (354kB)\n",
            "\r\u001b[K     |█                               | 10kB 26.3MB/s eta 0:00:01\r\u001b[K     |█▉                              | 20kB 2.7MB/s eta 0:00:01\r\u001b[K     |██▊                             | 30kB 3.8MB/s eta 0:00:01\r\u001b[K     |███▊                            | 40kB 4.1MB/s eta 0:00:01\r\u001b[K     |████▋                           | 51kB 3.3MB/s eta 0:00:01\r\u001b[K     |█████▌                          | 61kB 3.7MB/s eta 0:00:01\r\u001b[K     |██████▌                         | 71kB 4.0MB/s eta 0:00:01\r\u001b[K     |███████▍                        | 81kB 4.3MB/s eta 0:00:01\r\u001b[K     |████████▎                       | 92kB 4.7MB/s eta 0:00:01\r\u001b[K     |█████████▎                      | 102kB 4.4MB/s eta 0:00:01\r\u001b[K     |██████████▏                     | 112kB 4.4MB/s eta 0:00:01\r\u001b[K     |███████████                     | 122kB 4.4MB/s eta 0:00:01\r\u001b[K     |████████████                    | 133kB 4.4MB/s eta 0:00:01\r\u001b[K     |█████████████                   | 143kB 4.4MB/s eta 0:00:01\r\u001b[K     |█████████████▉                  | 153kB 4.4MB/s eta 0:00:01\r\u001b[K     |██████████████▉                 | 163kB 4.4MB/s eta 0:00:01\r\u001b[K     |███████████████▊                | 174kB 4.4MB/s eta 0:00:01\r\u001b[K     |████████████████▋               | 184kB 4.4MB/s eta 0:00:01\r\u001b[K     |█████████████████▋              | 194kB 4.4MB/s eta 0:00:01\r\u001b[K     |██████████████████▌             | 204kB 4.4MB/s eta 0:00:01\r\u001b[K     |███████████████████▍            | 215kB 4.4MB/s eta 0:00:01\r\u001b[K     |████████████████████▍           | 225kB 4.4MB/s eta 0:00:01\r\u001b[K     |█████████████████████▎          | 235kB 4.4MB/s eta 0:00:01\r\u001b[K     |██████████████████████▏         | 245kB 4.4MB/s eta 0:00:01\r\u001b[K     |███████████████████████▏        | 256kB 4.4MB/s eta 0:00:01\r\u001b[K     |████████████████████████        | 266kB 4.4MB/s eta 0:00:01\r\u001b[K     |█████████████████████████       | 276kB 4.4MB/s eta 0:00:01\r\u001b[K     |█████████████████████████▉      | 286kB 4.4MB/s eta 0:00:01\r\u001b[K     |██████████████████████████▉     | 296kB 4.4MB/s eta 0:00:01\r\u001b[K     |███████████████████████████▊    | 307kB 4.4MB/s eta 0:00:01\r\u001b[K     |████████████████████████████▋   | 317kB 4.4MB/s eta 0:00:01\r\u001b[K     |█████████████████████████████▋  | 327kB 4.4MB/s eta 0:00:01\r\u001b[K     |██████████████████████████████▌ | 337kB 4.4MB/s eta 0:00:01\r\u001b[K     |███████████████████████████████▍| 348kB 4.4MB/s eta 0:00:01\r\u001b[K     |████████████████████████████████| 358kB 4.4MB/s \n",
            "\u001b[?25hRequirement already satisfied, skipping upgrade: scipy in /usr/local/lib/python3.6/dist-packages (from fastai) (1.4.1)\n",
            "Requirement already satisfied, skipping upgrade: fastprogress>=0.2.4 in /usr/local/lib/python3.6/dist-packages (from fastai) (1.0.0)\n",
            "Collecting fastcore>=1.0.5\n",
            "  Downloading https://files.pythonhosted.org/packages/ca/f6/fe20bfa7d818104f940da81a60e7532090fd87c31f90d4c3b8ae2823d28a/fastcore-1.0.9-py3-none-any.whl\n",
            "Requirement already satisfied, skipping upgrade: pillow in /usr/local/lib/python3.6/dist-packages (from fastai) (7.0.0)\n",
            "Requirement already satisfied, skipping upgrade: pip in /usr/local/lib/python3.6/dist-packages (from fastai) (19.3.1)\n",
            "Requirement already satisfied, skipping upgrade: pyyaml in /usr/local/lib/python3.6/dist-packages (from fastai) (3.13)\n",
            "Requirement already satisfied, skipping upgrade: torchvision>=0.7 in /usr/local/lib/python3.6/dist-packages (from fastai) (0.7.0+cu101)\n",
            "Requirement already satisfied, skipping upgrade: requests in /usr/local/lib/python3.6/dist-packages (from fastai) (2.23.0)\n",
            "Requirement already satisfied, skipping upgrade: spacy in /usr/local/lib/python3.6/dist-packages (from fastai) (2.2.4)\n",
            "Requirement already satisfied, skipping upgrade: scikit-learn in /usr/local/lib/python3.6/dist-packages (from fastai) (0.22.2.post1)\n",
            "Requirement already satisfied, skipping upgrade: packaging in /usr/local/lib/python3.6/dist-packages (from fastai) (20.4)\n",
            "Requirement already satisfied, skipping upgrade: matplotlib in /usr/local/lib/python3.6/dist-packages (from fastai) (3.2.2)\n",
            "Requirement already satisfied, skipping upgrade: torch>=1.6.0 in /usr/local/lib/python3.6/dist-packages (from fastai) (1.6.0+cu101)\n",
            "Requirement already satisfied, skipping upgrade: pandas in /usr/local/lib/python3.6/dist-packages (from fastai) (1.0.5)\n",
            "Requirement already satisfied, skipping upgrade: numpy>=1.13.3 in /usr/local/lib/python3.6/dist-packages (from scipy->fastai) (1.18.5)\n",
            "Requirement already satisfied, skipping upgrade: chardet<4,>=3.0.2 in /usr/local/lib/python3.6/dist-packages (from requests->fastai) (3.0.4)\n",
            "Requirement already satisfied, skipping upgrade: certifi>=2017.4.17 in /usr/local/lib/python3.6/dist-packages (from requests->fastai) (2020.6.20)\n",
            "Requirement already satisfied, skipping upgrade: idna<3,>=2.5 in /usr/local/lib/python3.6/dist-packages (from requests->fastai) (2.10)\n",
            "Requirement already satisfied, skipping upgrade: urllib3!=1.25.0,!=1.25.1,<1.26,>=1.21.1 in /usr/local/lib/python3.6/dist-packages (from requests->fastai) (1.24.3)\n",
            "Requirement already satisfied, skipping upgrade: cymem<2.1.0,>=2.0.2 in /usr/local/lib/python3.6/dist-packages (from spacy->fastai) (2.0.3)\n",
            "Requirement already satisfied, skipping upgrade: catalogue<1.1.0,>=0.0.7 in /usr/local/lib/python3.6/dist-packages (from spacy->fastai) (1.0.0)\n",
            "Requirement already satisfied, skipping upgrade: thinc==7.4.0 in /usr/local/lib/python3.6/dist-packages (from spacy->fastai) (7.4.0)\n",
            "Requirement already satisfied, skipping upgrade: tqdm<5.0.0,>=4.38.0 in /usr/local/lib/python3.6/dist-packages (from spacy->fastai) (4.41.1)\n",
            "Requirement already satisfied, skipping upgrade: plac<1.2.0,>=0.9.6 in /usr/local/lib/python3.6/dist-packages (from spacy->fastai) (1.1.3)\n",
            "Requirement already satisfied, skipping upgrade: blis<0.5.0,>=0.4.0 in /usr/local/lib/python3.6/dist-packages (from spacy->fastai) (0.4.1)\n",
            "Requirement already satisfied, skipping upgrade: wasabi<1.1.0,>=0.4.0 in /usr/local/lib/python3.6/dist-packages (from spacy->fastai) (0.7.1)\n",
            "Requirement already satisfied, skipping upgrade: murmurhash<1.1.0,>=0.28.0 in /usr/local/lib/python3.6/dist-packages (from spacy->fastai) (1.0.2)\n",
            "Requirement already satisfied, skipping upgrade: srsly<1.1.0,>=1.0.2 in /usr/local/lib/python3.6/dist-packages (from spacy->fastai) (1.0.2)\n",
            "Requirement already satisfied, skipping upgrade: setuptools in /usr/local/lib/python3.6/dist-packages (from spacy->fastai) (49.6.0)\n",
            "Requirement already satisfied, skipping upgrade: preshed<3.1.0,>=3.0.2 in /usr/local/lib/python3.6/dist-packages (from spacy->fastai) (3.0.2)\n",
            "Requirement already satisfied, skipping upgrade: joblib>=0.11 in /usr/local/lib/python3.6/dist-packages (from scikit-learn->fastai) (0.16.0)\n",
            "Requirement already satisfied, skipping upgrade: pyparsing>=2.0.2 in /usr/local/lib/python3.6/dist-packages (from packaging->fastai) (2.4.7)\n",
            "Requirement already satisfied, skipping upgrade: six in /usr/local/lib/python3.6/dist-packages (from packaging->fastai) (1.15.0)\n",
            "Requirement already satisfied, skipping upgrade: python-dateutil>=2.1 in /usr/local/lib/python3.6/dist-packages (from matplotlib->fastai) (2.8.1)\n",
            "Requirement already satisfied, skipping upgrade: kiwisolver>=1.0.1 in /usr/local/lib/python3.6/dist-packages (from matplotlib->fastai) (1.2.0)\n",
            "Requirement already satisfied, skipping upgrade: cycler>=0.10 in /usr/local/lib/python3.6/dist-packages (from matplotlib->fastai) (0.10.0)\n",
            "Requirement already satisfied, skipping upgrade: future in /usr/local/lib/python3.6/dist-packages (from torch>=1.6.0->fastai) (0.16.0)\n",
            "Requirement already satisfied, skipping upgrade: pytz>=2017.2 in /usr/local/lib/python3.6/dist-packages (from pandas->fastai) (2018.9)\n",
            "Requirement already satisfied, skipping upgrade: importlib-metadata>=0.20; python_version < \"3.8\" in /usr/local/lib/python3.6/dist-packages (from catalogue<1.1.0,>=0.0.7->spacy->fastai) (1.7.0)\n",
            "Requirement already satisfied, skipping upgrade: zipp>=0.5 in /usr/local/lib/python3.6/dist-packages (from importlib-metadata>=0.20; python_version < \"3.8\"->catalogue<1.1.0,>=0.0.7->spacy->fastai) (3.1.0)\n",
            "Installing collected packages: fastcore, fastai\n",
            "  Found existing installation: fastai 1.0.61\n",
            "    Uninstalling fastai-1.0.61:\n",
            "      Successfully uninstalled fastai-1.0.61\n",
            "Successfully installed fastai-2.0.10 fastcore-1.0.9\n"
          ],
          "name": "stdout"
        }
      ]
    },
    {
      "cell_type": "code",
      "metadata": {
        "id": "eogFUR72dBAT",
        "colab_type": "code",
        "colab": {}
      },
      "source": [
        "from fastai.text.all import *"
      ],
      "execution_count": null,
      "outputs": []
    },
    {
      "cell_type": "code",
      "metadata": {
        "id": "afBW7jyhdE_g",
        "colab_type": "code",
        "colab": {}
      },
      "source": [
        "import numpy as np\n",
        "import pandas as pd\n",
        "import matplotlib.pyplot as plt"
      ],
      "execution_count": null,
      "outputs": []
    },
    {
      "cell_type": "code",
      "metadata": {
        "id": "tAJrlo0xdpcI",
        "colab_type": "code",
        "colab": {
          "base_uri": "https://localhost:8080/",
          "height": 34
        },
        "outputId": "60c9c35e-c61e-4035-88c3-054a298f296a"
      },
      "source": [
        "from google.colab import drive\n",
        "drive.mount('/content/gdrive', force_remount=True)\n",
        "root_dir = \"/content/gdrive/My Drive/\"\n",
        "base_dir = root_dir + 'digi_sale/'"
      ],
      "execution_count": null,
      "outputs": [
        {
          "output_type": "stream",
          "text": [
            "Mounted at /content/gdrive\n"
          ],
          "name": "stdout"
        }
      ]
    },
    {
      "cell_type": "code",
      "metadata": {
        "id": "ULDa6foldsIm",
        "colab_type": "code",
        "colab": {
          "base_uri": "https://localhost:8080/",
          "height": 340
        },
        "outputId": "c6591499-eddf-4a2a-9092-14f6a750d9ea"
      },
      "source": [
        "train_df = pd.read_csv('/content/gdrive/My Drive/digikala sales prediction/nlp/train_users.csv')\n",
        "train_df.head(5)"
      ],
      "execution_count": null,
      "outputs": [
        {
          "output_type": "execute_result",
          "data": {
            "text/html": [
              "<div>\n",
              "<style scoped>\n",
              "    .dataframe tbody tr th:only-of-type {\n",
              "        vertical-align: middle;\n",
              "    }\n",
              "\n",
              "    .dataframe tbody tr th {\n",
              "        vertical-align: top;\n",
              "    }\n",
              "\n",
              "    .dataframe thead th {\n",
              "        text-align: right;\n",
              "    }\n",
              "</style>\n",
              "<table border=\"1\" class=\"dataframe\">\n",
              "  <thead>\n",
              "    <tr style=\"text-align: right;\">\n",
              "      <th></th>\n",
              "      <th>id</th>\n",
              "      <th>title</th>\n",
              "      <th>comment</th>\n",
              "      <th>advantages</th>\n",
              "      <th>disadvantages</th>\n",
              "      <th>title_fa_product</th>\n",
              "      <th>title_fa_category</th>\n",
              "      <th>is_buyer</th>\n",
              "      <th>verification_status</th>\n",
              "      <th>rate</th>\n",
              "    </tr>\n",
              "  </thead>\n",
              "  <tbody>\n",
              "    <tr>\n",
              "      <th>0</th>\n",
              "      <td>0</td>\n",
              "      <td>NaN</td>\n",
              "      <td>مثل بقیه محصولات الکل دار پوست رو خشک نمیکنه</td>\n",
              "      <td>NaN</td>\n",
              "      <td>NaN</td>\n",
              "      <td>ژل ضد عفونی کننده دست شون مدل Aloevera حجم 300 میلی لیتر</td>\n",
              "      <td>ضدعفونی کننده</td>\n",
              "      <td>1</td>\n",
              "      <td>1</td>\n",
              "      <td>100.0</td>\n",
              "    </tr>\n",
              "    <tr>\n",
              "      <th>1</th>\n",
              "      <td>1</td>\n",
              "      <td>Redmi 8</td>\n",
              "      <td>با این مبلغ اگه امکانات و ارزش خرید واستون مهمه این گوشی عالیه و  بیخودی پول برند نمیدی.</td>\n",
              "      <td>[\"رم4\\r\",\"قیمت نسبت به سایر برندها\\r\",\"طراحی و زیبایی\\r\",\"باتری 5000 و فست شارژ\\r\",\"صدای با حجم بالا و کیفیت مناسب\\r\",\"حافظه داخلی 64\\r\",\"دوربین \"]</td>\n",
              "      <td>[\"نداشتن هندزفری\"]</td>\n",
              "      <td>گوشی موبایل شیائومی مدل Redmi 8 M1908C3IG دو سیم‌ کارت ظرفیت 64 گیگابایت</td>\n",
              "      <td>گوشی موبایل</td>\n",
              "      <td>1</td>\n",
              "      <td>1</td>\n",
              "      <td>80.0</td>\n",
              "    </tr>\n",
              "    <tr>\n",
              "      <th>2</th>\n",
              "      <td>2</td>\n",
              "      <td>عالی</td>\n",
              "      <td>خوبه فقط کج و کوله بدستم رسید ولی پسرم خیلی خوشحال شد لطفا در بسته بندی بیشتر توجه بشه</td>\n",
              "      <td>NaN</td>\n",
              "      <td>NaN</td>\n",
              "      <td>ماسک کودک طرح سگ نگهبان مدل رابل</td>\n",
              "      <td>ایفای نقش</td>\n",
              "      <td>1</td>\n",
              "      <td>1</td>\n",
              "      <td>100.0</td>\n",
              "    </tr>\n",
              "    <tr>\n",
              "      <th>3</th>\n",
              "      <td>3</td>\n",
              "      <td>NaN</td>\n",
              "      <td>در کل خوب بود ولی متاسفانه درب محصول شکسته بود و مقداریش داخل بسته بندی خالی شده بود.</td>\n",
              "      <td>NaN</td>\n",
              "      <td>NaN</td>\n",
              "      <td>مایع ضدعفونی کننده میوه و سبزیجات من مدل WT حجم 500 میلی لیتر</td>\n",
              "      <td>ضدعفونی کننده سطوح</td>\n",
              "      <td>1</td>\n",
              "      <td>1</td>\n",
              "      <td>70.0</td>\n",
              "    </tr>\n",
              "    <tr>\n",
              "      <th>4</th>\n",
              "      <td>4</td>\n",
              "      <td>NaN</td>\n",
              "      <td>من که خیلی باهاش حال کردم فقط من که همیشه L میپوشیدم اینبار M گرفتم چون لانگه و اندازه ش بزرگتره</td>\n",
              "      <td>NaN</td>\n",
              "      <td>NaN</td>\n",
              "      <td>تی شرت آستین کوتاه مردانه باینت کد 323-1 btt</td>\n",
              "      <td>تی شرت و پولوشرت مردانه</td>\n",
              "      <td>1</td>\n",
              "      <td>1</td>\n",
              "      <td>72.0</td>\n",
              "    </tr>\n",
              "  </tbody>\n",
              "</table>\n",
              "</div>"
            ],
            "text/plain": [
              "   id    title  ... verification_status   rate\n",
              "0   0      NaN  ...                   1  100.0\n",
              "1   1  Redmi 8  ...                   1   80.0\n",
              "2   2     عالی  ...                   1  100.0\n",
              "3   3      NaN  ...                   1   70.0\n",
              "4   4      NaN  ...                   1   72.0\n",
              "\n",
              "[5 rows x 10 columns]"
            ]
          },
          "metadata": {
            "tags": []
          },
          "execution_count": 5
        }
      ]
    },
    {
      "cell_type": "code",
      "metadata": {
        "id": "cGjdkD4zeCi2",
        "colab_type": "code",
        "colab": {
          "base_uri": "https://localhost:8080/",
          "height": 255
        },
        "outputId": "36d0add4-6238-4041-c71a-d374f5a6c703"
      },
      "source": [
        "test_df = pd.read_csv('/content/gdrive/My Drive/digikala sales prediction/nlp/test_users.csv')\n",
        "test_df.head(5)"
      ],
      "execution_count": null,
      "outputs": [
        {
          "output_type": "execute_result",
          "data": {
            "text/html": [
              "<div>\n",
              "<style scoped>\n",
              "    .dataframe tbody tr th:only-of-type {\n",
              "        vertical-align: middle;\n",
              "    }\n",
              "\n",
              "    .dataframe tbody tr th {\n",
              "        vertical-align: top;\n",
              "    }\n",
              "\n",
              "    .dataframe thead th {\n",
              "        text-align: right;\n",
              "    }\n",
              "</style>\n",
              "<table border=\"1\" class=\"dataframe\">\n",
              "  <thead>\n",
              "    <tr style=\"text-align: right;\">\n",
              "      <th></th>\n",
              "      <th>id</th>\n",
              "      <th>title</th>\n",
              "      <th>comment</th>\n",
              "      <th>advantages</th>\n",
              "      <th>disadvantages</th>\n",
              "      <th>title_fa_product</th>\n",
              "      <th>title_fa_category</th>\n",
              "      <th>is_buyer</th>\n",
              "    </tr>\n",
              "  </thead>\n",
              "  <tbody>\n",
              "    <tr>\n",
              "      <th>0</th>\n",
              "      <td>0</td>\n",
              "      <td>با کیفیت</td>\n",
              "      <td>بسته بندی بهداشتی و کیفیت عالی</td>\n",
              "      <td>NaN</td>\n",
              "      <td>NaN</td>\n",
              "      <td>گوش پاک کن کتابی پنبه ریز بسته 200 عددی</td>\n",
              "      <td>گوش پاک کن</td>\n",
              "      <td>1</td>\n",
              "    </tr>\n",
              "    <tr>\n",
              "      <th>1</th>\n",
              "      <td>1</td>\n",
              "      <td>گوشی موبایل شیائومی</td>\n",
              "      <td>این گوشی فوق‌العاده است</td>\n",
              "      <td>[\"این گوشی همه چیش فوق‌العاده است از دوربین تا نرم‌افزار هایی که داره واقعا عالیه \"]</td>\n",
              "      <td>[\"اصلا هیچ نقاط ضعفی نداره \"]</td>\n",
              "      <td>گوشی موبایل شیائومی مدل Redmi Note 8 M1908C3JG دو سیم‌ کارت ظرفیت 128 گیگابایت - طرح قیمت شگفت انگیز</td>\n",
              "      <td>گوشی موبایل</td>\n",
              "      <td>1</td>\n",
              "    </tr>\n",
              "    <tr>\n",
              "      <th>2</th>\n",
              "      <td>2</td>\n",
              "      <td>NaN</td>\n",
              "      <td>صداش قطع میشه باتریشم خیییلی ضعیفه</td>\n",
              "      <td>NaN</td>\n",
              "      <td>NaN</td>\n",
              "      <td>هدفون بی سیم مدل inpods 12</td>\n",
              "      <td>هدفون، هدست و هندزفری</td>\n",
              "      <td>1</td>\n",
              "    </tr>\n",
              "    <tr>\n",
              "      <th>3</th>\n",
              "      <td>3</td>\n",
              "      <td>NaN</td>\n",
              "      <td>بنظرم‌ خوبه</td>\n",
              "      <td>NaN</td>\n",
              "      <td>NaN</td>\n",
              "      <td>خمیر دندان نسیم مدل Feluoride Protection مقدار 80 گرم</td>\n",
              "      <td>خمیر دندان</td>\n",
              "      <td>1</td>\n",
              "    </tr>\n",
              "    <tr>\n",
              "      <th>4</th>\n",
              "      <td>4</td>\n",
              "      <td>عااالیه</td>\n",
              "      <td>عااالیه</td>\n",
              "      <td>[\"عاااالیه\"]</td>\n",
              "      <td>NaN</td>\n",
              "      <td>کرم موبر صورت و بدن سینره حجم 100 میلی لیتر</td>\n",
              "      <td>کرم موبر</td>\n",
              "      <td>1</td>\n",
              "    </tr>\n",
              "  </tbody>\n",
              "</table>\n",
              "</div>"
            ],
            "text/plain": [
              "   id                title  ...      title_fa_category is_buyer\n",
              "0   0             با کیفیت  ...             گوش پاک کن        1\n",
              "1   1  گوشی موبایل شیائومی  ...            گوشی موبایل        1\n",
              "2   2                  NaN  ...  هدفون، هدست و هندزفری        1\n",
              "3   3                  NaN  ...             خمیر دندان        1\n",
              "4   4              عااالیه  ...               کرم موبر        1\n",
              "\n",
              "[5 rows x 8 columns]"
            ]
          },
          "metadata": {
            "tags": []
          },
          "execution_count": 7
        }
      ]
    },
    {
      "cell_type": "code",
      "metadata": {
        "id": "H76qfxS1eJg-",
        "colab_type": "code",
        "colab": {
          "base_uri": "https://localhost:8080/",
          "height": 17
        },
        "outputId": "352926f6-2437-49c1-de01-3f3809b933d0"
      },
      "source": [
        "dls = TextDataLoaders.from_df(train_df, path='.', text_col=['title','comment', 'advantages' ,'disadvantages'],label_col = 'verification_status' , valid_pct=0.2, bs = 128)"
      ],
      "execution_count": null,
      "outputs": [
        {
          "output_type": "display_data",
          "data": {
            "text/html": [
              ""
            ],
            "text/plain": [
              "<IPython.core.display.HTML object>"
            ]
          },
          "metadata": {
            "tags": []
          }
        }
      ]
    },
    {
      "cell_type": "code",
      "metadata": {
        "id": "_2WI9-HifrlH",
        "colab_type": "code",
        "colab": {
          "base_uri": "https://localhost:8080/",
          "height": 17
        },
        "outputId": "0edf7df7-f4ee-4391-fea2-8cc31ec14709"
      },
      "source": [
        "learn = text_classifier_learner(dls, AWD_LSTM, drop_mult=0.5 ,metrics=accuracy)"
      ],
      "execution_count": null,
      "outputs": [
        {
          "output_type": "display_data",
          "data": {
            "text/html": [
              ""
            ],
            "text/plain": [
              "<IPython.core.display.HTML object>"
            ]
          },
          "metadata": {
            "tags": []
          }
        }
      ]
    },
    {
      "cell_type": "code",
      "metadata": {
        "id": "kAnSaUCug_fo",
        "colab_type": "code",
        "colab": {
          "base_uri": "https://localhost:8080/",
          "height": 300
        },
        "outputId": "73b7fe27-08d6-4036-bb44-f814f154b9b0"
      },
      "source": [
        "learn.lr_find()"
      ],
      "execution_count": null,
      "outputs": [
        {
          "output_type": "display_data",
          "data": {
            "text/html": [
              ""
            ],
            "text/plain": [
              "<IPython.core.display.HTML object>"
            ]
          },
          "metadata": {
            "tags": []
          }
        },
        {
          "output_type": "execute_result",
          "data": {
            "text/plain": [
              "SuggestedLRs(lr_min=0.025118863582611083, lr_steep=0.0831763744354248)"
            ]
          },
          "metadata": {
            "tags": []
          },
          "execution_count": 15
        },
        {
          "output_type": "display_data",
          "data": {
            "image/png": "[encoded data removed]",
            "text/plain": [
              "<Figure size 432x288 with 1 Axes>"
            ]
          },
          "metadata": {
            "tags": [],
            "needs_background": "light"
          }
        }
      ]
    },
    {
      "cell_type": "code",
      "metadata": {
        "id": "eE2O4hc_keJ6",
        "colab_type": "code",
        "colab": {
          "base_uri": "https://localhost:8080/",
          "height": 236
        },
        "outputId": "ac8094a8-6721-4052-f73a-b4e5dd88f387"
      },
      "source": [
        "learn.fine_tune(4, 1e-1)"
      ],
      "execution_count": null,
      "outputs": [
        {
          "output_type": "display_data",
          "data": {
            "text/html": [
              "<table border=\"1\" class=\"dataframe\">\n",
              "  <thead>\n",
              "    <tr style=\"text-align: left;\">\n",
              "      <th>epoch</th>\n",
              "      <th>train_loss</th>\n",
              "      <th>valid_loss</th>\n",
              "      <th>accuracy</th>\n",
              "      <th>time</th>\n",
              "    </tr>\n",
              "  </thead>\n",
              "  <tbody>\n",
              "    <tr>\n",
              "      <td>0</td>\n",
              "      <td>0.383154</td>\n",
              "      <td>0.162582</td>\n",
              "      <td>0.962291</td>\n",
              "      <td>05:40</td>\n",
              "    </tr>\n",
              "  </tbody>\n",
              "</table>"
            ],
            "text/plain": [
              "<IPython.core.display.HTML object>"
            ]
          },
          "metadata": {
            "tags": []
          }
        },
        {
          "output_type": "display_data",
          "data": {
            "text/html": [
              "<table border=\"1\" class=\"dataframe\">\n",
              "  <thead>\n",
              "    <tr style=\"text-align: left;\">\n",
              "      <th>epoch</th>\n",
              "      <th>train_loss</th>\n",
              "      <th>valid_loss</th>\n",
              "      <th>accuracy</th>\n",
              "      <th>time</th>\n",
              "    </tr>\n",
              "  </thead>\n",
              "  <tbody>\n",
              "    <tr>\n",
              "      <td>0</td>\n",
              "      <td>0.140476</td>\n",
              "      <td>0.169549</td>\n",
              "      <td>0.962613</td>\n",
              "      <td>06:52</td>\n",
              "    </tr>\n",
              "    <tr>\n",
              "      <td>1</td>\n",
              "      <td>0.099853</td>\n",
              "      <td>0.082435</td>\n",
              "      <td>0.977023</td>\n",
              "      <td>06:55</td>\n",
              "    </tr>\n",
              "    <tr>\n",
              "      <td>2</td>\n",
              "      <td>0.062564</td>\n",
              "      <td>0.323584</td>\n",
              "      <td>0.978025</td>\n",
              "      <td>06:56</td>\n",
              "    </tr>\n",
              "    <tr>\n",
              "      <td>3</td>\n",
              "      <td>0.064286</td>\n",
              "      <td>6.003785</td>\n",
              "      <td>0.972087</td>\n",
              "      <td>06:53</td>\n",
              "    </tr>\n",
              "  </tbody>\n",
              "</table>"
            ],
            "text/plain": [
              "<IPython.core.display.HTML object>"
            ]
          },
          "metadata": {
            "tags": []
          }
        }
      ]
    },
    {
      "cell_type": "code",
      "metadata": {
        "id": "QtfD-fWXkrJD",
        "colab_type": "code",
        "colab": {}
      },
      "source": [
        "nlp_predictions = pd.DataFrame(columns= ['id','verification_status'])"
      ],
      "execution_count": null,
      "outputs": []
    },
    {
      "cell_type": "code",
      "metadata": {
        "id": "KvnGhD3avdBy",
        "colab_type": "code",
        "colab": {
          "base_uri": "https://localhost:8080/",
          "height": 487
        },
        "outputId": "1f8e93c1-3d4b-453d-d435-60bf79c2f1ba"
      },
      "source": [
        "test_df = test_df.fillna(' ')\n",
        "test_df"
      ],
      "execution_count": null,
      "outputs": [
        {
          "output_type": "execute_result",
          "data": {
            "text/html": [
              "<div>\n",
              "<style scoped>\n",
              "    .dataframe tbody tr th:only-of-type {\n",
              "        vertical-align: middle;\n",
              "    }\n",
              "\n",
              "    .dataframe tbody tr th {\n",
              "        vertical-align: top;\n",
              "    }\n",
              "\n",
              "    .dataframe thead th {\n",
              "        text-align: right;\n",
              "    }\n",
              "</style>\n",
              "<table border=\"1\" class=\"dataframe\">\n",
              "  <thead>\n",
              "    <tr style=\"text-align: right;\">\n",
              "      <th></th>\n",
              "      <th>id</th>\n",
              "      <th>title</th>\n",
              "      <th>comment</th>\n",
              "      <th>advantages</th>\n",
              "      <th>disadvantages</th>\n",
              "      <th>title_fa_product</th>\n",
              "      <th>title_fa_category</th>\n",
              "      <th>is_buyer</th>\n",
              "    </tr>\n",
              "  </thead>\n",
              "  <tbody>\n",
              "    <tr>\n",
              "      <th>0</th>\n",
              "      <td>0</td>\n",
              "      <td>با کیفیت</td>\n",
              "      <td>بسته بندی بهداشتی و کیفیت عالی</td>\n",
              "      <td></td>\n",
              "      <td></td>\n",
              "      <td>گوش پاک کن کتابی پنبه ریز بسته 200 عددی</td>\n",
              "      <td>گوش پاک کن</td>\n",
              "      <td>1</td>\n",
              "    </tr>\n",
              "    <tr>\n",
              "      <th>1</th>\n",
              "      <td>1</td>\n",
              "      <td>گوشی موبایل شیائومی</td>\n",
              "      <td>این گوشی فوق‌العاده است</td>\n",
              "      <td>[\"این گوشی همه چیش فوق‌العاده است از دوربین تا نرم‌افزار هایی که داره واقعا عالیه \"]</td>\n",
              "      <td>[\"اصلا هیچ نقاط ضعفی نداره \"]</td>\n",
              "      <td>گوشی موبایل شیائومی مدل Redmi Note 8 M1908C3JG دو سیم‌ کارت ظرفیت 128 گیگابایت - طرح قیمت شگفت انگیز</td>\n",
              "      <td>گوشی موبایل</td>\n",
              "      <td>1</td>\n",
              "    </tr>\n",
              "    <tr>\n",
              "      <th>2</th>\n",
              "      <td>2</td>\n",
              "      <td></td>\n",
              "      <td>صداش قطع میشه باتریشم خیییلی ضعیفه</td>\n",
              "      <td></td>\n",
              "      <td></td>\n",
              "      <td>هدفون بی سیم مدل inpods 12</td>\n",
              "      <td>هدفون، هدست و هندزفری</td>\n",
              "      <td>1</td>\n",
              "    </tr>\n",
              "    <tr>\n",
              "      <th>3</th>\n",
              "      <td>3</td>\n",
              "      <td></td>\n",
              "      <td>بنظرم‌ خوبه</td>\n",
              "      <td></td>\n",
              "      <td></td>\n",
              "      <td>خمیر دندان نسیم مدل Feluoride Protection مقدار 80 گرم</td>\n",
              "      <td>خمیر دندان</td>\n",
              "      <td>1</td>\n",
              "    </tr>\n",
              "    <tr>\n",
              "      <th>4</th>\n",
              "      <td>4</td>\n",
              "      <td>عااالیه</td>\n",
              "      <td>عااالیه</td>\n",
              "      <td>[\"عاااالیه\"]</td>\n",
              "      <td></td>\n",
              "      <td>کرم موبر صورت و بدن سینره حجم 100 میلی لیتر</td>\n",
              "      <td>کرم موبر</td>\n",
              "      <td>1</td>\n",
              "    </tr>\n",
              "    <tr>\n",
              "      <th>...</th>\n",
              "      <td>...</td>\n",
              "      <td>...</td>\n",
              "      <td>...</td>\n",
              "      <td>...</td>\n",
              "      <td>...</td>\n",
              "      <td>...</td>\n",
              "      <td>...</td>\n",
              "      <td>...</td>\n",
              "    </tr>\n",
              "    <tr>\n",
              "      <th>19394</th>\n",
              "      <td>19394</td>\n",
              "      <td></td>\n",
              "      <td>خوشمزه مثل همیشه</td>\n",
              "      <td></td>\n",
              "      <td></td>\n",
              "      <td>چاشنی خورش قرمه سبزی هاتی کارا مقدار 750 گرم</td>\n",
              "      <td>ادویه و چاشنی</td>\n",
              "      <td>1</td>\n",
              "    </tr>\n",
              "    <tr>\n",
              "      <th>19395</th>\n",
              "      <td>19395</td>\n",
              "      <td>عالی</td>\n",
              "      <td>عالی\\r\\nبوش مثله خود ادکلنشه</td>\n",
              "      <td></td>\n",
              "      <td></td>\n",
              "      <td>اسپری خوشبو کننده بدن زنانه پرستیژ مدل Tresor Midnight Rose حجم 150 میلی لیتر</td>\n",
              "      <td>اسپری</td>\n",
              "      <td>1</td>\n",
              "    </tr>\n",
              "    <tr>\n",
              "      <th>19396</th>\n",
              "      <td>19396</td>\n",
              "      <td></td>\n",
              "      <td>نازکه. نسبت به کیفیتش قیمتش بالاست تازه من داخل شگفت انگیز خریدم</td>\n",
              "      <td></td>\n",
              "      <td></td>\n",
              "      <td>دستکش زنانه دالیا مدل viscose2</td>\n",
              "      <td>دستکش زنانه</td>\n",
              "      <td>1</td>\n",
              "    </tr>\n",
              "    <tr>\n",
              "      <th>19397</th>\n",
              "      <td>19397</td>\n",
              "      <td>چای ایرانی</td>\n",
              "      <td>چای ایرانی بنوش هموطن</td>\n",
              "      <td></td>\n",
              "      <td></td>\n",
              "      <td>چای شکسته ایرانی مهمان دوست مقدار 500 گرم</td>\n",
              "      <td>چای</td>\n",
              "      <td>1</td>\n",
              "    </tr>\n",
              "    <tr>\n",
              "      <th>19398</th>\n",
              "      <td>19398</td>\n",
              "      <td>کیفیت</td>\n",
              "      <td>شامپوی مناسبی است و با موهایم سازگار است اما قیمتش خیلی افزایش یافته.</td>\n",
              "      <td></td>\n",
              "      <td></td>\n",
              "      <td>شامپو سدر صحت مقدار 1لیتر</td>\n",
              "      <td>شامپوی مو</td>\n",
              "      <td>1</td>\n",
              "    </tr>\n",
              "  </tbody>\n",
              "</table>\n",
              "<p>19399 rows × 8 columns</p>\n",
              "</div>"
            ],
            "text/plain": [
              "          id                title  ...      title_fa_category is_buyer\n",
              "0          0             با کیفیت  ...             گوش پاک کن        1\n",
              "1          1  گوشی موبایل شیائومی  ...            گوشی موبایل        1\n",
              "2          2                       ...  هدفون، هدست و هندزفری        1\n",
              "3          3                       ...             خمیر دندان        1\n",
              "4          4              عااالیه  ...               کرم موبر        1\n",
              "...      ...                  ...  ...                    ...      ...\n",
              "19394  19394                       ...          ادویه و چاشنی        1\n",
              "19395  19395                 عالی  ...                  اسپری        1\n",
              "19396  19396                       ...            دستکش زنانه        1\n",
              "19397  19397           چای ایرانی  ...                    چای        1\n",
              "19398  19398                کیفیت  ...              شامپوی مو        1\n",
              "\n",
              "[19399 rows x 8 columns]"
            ]
          },
          "metadata": {
            "tags": []
          },
          "execution_count": 33
        }
      ]
    },
    {
      "cell_type": "code",
      "metadata": {
        "id": "DbQ9TEt1tnUy",
        "colab_type": "code",
        "colab": {
          "base_uri": "https://localhost:8080/",
          "height": 35
        },
        "outputId": "32b18c0c-0458-4198-964c-c69166f2f776"
      },
      "source": [
        "test_df.iloc[0]['comment'] + ' ' + test_df.iloc[0]['title'] + ' ' + test_df.iloc[0]['advantages'] + ' ' + test_df.iloc[1]['disadvantages']"
      ],
      "execution_count": null,
      "outputs": [
        {
          "output_type": "execute_result",
          "data": {
            "application/vnd.google.colaboratory.intrinsic+json": {
              "type": "string"
            },
            "text/plain": [
              "'بسته بندی بهداشتی و کیفیت عالی با کیفیت   [\"اصلا هیچ نقاط ضعفی نداره \"]'"
            ]
          },
          "metadata": {
            "tags": []
          },
          "execution_count": 34
        }
      ]
    },
    {
      "cell_type": "code",
      "metadata": {
        "id": "L11gNU5UsUdI",
        "colab_type": "code",
        "colab": {}
      },
      "source": [
        "for i in range(len(test_df)):\n",
        "  verified,_,_ = learn.predict(test_df.iloc[i]['comment'] + ' ' + test_df.iloc[i]['title'] + ' ' + test_df.iloc[i]['advantages'] + ' ' + test_df.iloc[i]['disadvantages'] )\n",
        "  nlp_predictions = nlp_predictions.append({'id': i, 'verification_status': verified }, ignore_index=True)"
      ],
      "execution_count": null,
      "outputs": []
    },
    {
      "cell_type": "code",
      "metadata": {
        "id": "ai3ohZpzswvu",
        "colab_type": "code",
        "colab": {
          "base_uri": "https://localhost:8080/"
        },
        "outputId": "e814b0fa-738d-4689-aee6-311c37681940"
      },
      "source": [
        "nlp_predictions"
      ],
      "execution_count": null,
      "outputs": [
        {
          "output_type": "execute_result",
          "data": {
            "text/html": [
              "<div>\n",
              "<style scoped>\n",
              "    .dataframe tbody tr th:only-of-type {\n",
              "        vertical-align: middle;\n",
              "    }\n",
              "\n",
              "    .dataframe tbody tr th {\n",
              "        vertical-align: top;\n",
              "    }\n",
              "\n",
              "    .dataframe thead th {\n",
              "        text-align: right;\n",
              "    }\n",
              "</style>\n",
              "<table border=\"1\" class=\"dataframe\">\n",
              "  <thead>\n",
              "    <tr style=\"text-align: right;\">\n",
              "      <th></th>\n",
              "      <th>id</th>\n",
              "      <th>verification_status</th>\n",
              "    </tr>\n",
              "  </thead>\n",
              "  <tbody>\n",
              "    <tr>\n",
              "      <th>0</th>\n",
              "      <td>0</td>\n",
              "      <td>1</td>\n",
              "    </tr>\n",
              "    <tr>\n",
              "      <th>1</th>\n",
              "      <td>1</td>\n",
              "      <td>1</td>\n",
              "    </tr>\n",
              "    <tr>\n",
              "      <th>2</th>\n",
              "      <td>2</td>\n",
              "      <td>1</td>\n",
              "    </tr>\n",
              "    <tr>\n",
              "      <th>3</th>\n",
              "      <td>3</td>\n",
              "      <td>1</td>\n",
              "    </tr>\n",
              "    <tr>\n",
              "      <th>4</th>\n",
              "      <td>4</td>\n",
              "      <td>1</td>\n",
              "    </tr>\n",
              "    <tr>\n",
              "      <th>...</th>\n",
              "      <td>...</td>\n",
              "      <td>...</td>\n",
              "    </tr>\n",
              "    <tr>\n",
              "      <th>19394</th>\n",
              "      <td>19394</td>\n",
              "      <td>1</td>\n",
              "    </tr>\n",
              "    <tr>\n",
              "      <th>19395</th>\n",
              "      <td>19395</td>\n",
              "      <td>1</td>\n",
              "    </tr>\n",
              "    <tr>\n",
              "      <th>19396</th>\n",
              "      <td>19396</td>\n",
              "      <td>1</td>\n",
              "    </tr>\n",
              "    <tr>\n",
              "      <th>19397</th>\n",
              "      <td>19397</td>\n",
              "      <td>1</td>\n",
              "    </tr>\n",
              "    <tr>\n",
              "      <th>19398</th>\n",
              "      <td>19398</td>\n",
              "      <td>1</td>\n",
              "    </tr>\n",
              "  </tbody>\n",
              "</table>\n",
              "<p>19399 rows × 2 columns</p>\n",
              "</div>"
            ],
            "text/plain": [
              "          id verification_status\n",
              "0          0                   1\n",
              "1          1                   1\n",
              "2          2                   1\n",
              "3          3                   1\n",
              "4          4                   1\n",
              "...      ...                 ...\n",
              "19394  19394                   1\n",
              "19395  19395                   1\n",
              "19396  19396                   1\n",
              "19397  19397                   1\n",
              "19398  19398                   1\n",
              "\n",
              "[19399 rows x 2 columns]"
            ]
          },
          "metadata": {
            "tags": []
          },
          "execution_count": 36
        }
      ]
    },
    {
      "cell_type": "code",
      "metadata": {
        "id": "vVmO3S8VxMII",
        "colab_type": "code",
        "colab": {}
      },
      "source": [
        "nlp_predictions.to_csv('/content/gdrive/My Drive/digikala sales prediction/nlp/nlp_preds.csv' , index = False)"
      ],
      "execution_count": null,
      "outputs": []
    },
    {
      "cell_type": "code",
      "metadata": {
        "id": "0fz0BdagxdN9",
        "colab_type": "code",
        "colab": {}
      },
      "source": [
        ""
      ],
      "execution_count": null,
      "outputs": []
    }
  ]
}